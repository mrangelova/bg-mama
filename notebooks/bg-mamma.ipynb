{
 "cells": [
  {
   "cell_type": "markdown",
   "metadata": {},
   "source": [
    "<img src=\"logo-su-s-nadpis.jpg\",width=100,height=100>"
   ]
  },
  {
   "cell_type": "markdown",
   "metadata": {},
   "source": [
    "<h1><center>Софийски университет „Св. Кл. Охридски”</center></h1>\n",
    "<h2><center>Факултет по математика и информатика</center></h2>"
   ]
  },
  {
   "cell_type": "markdown",
   "metadata": {},
   "source": [
    "----"
   ]
  },
  {
   "cell_type": "markdown",
   "metadata": {},
   "source": [
    "<h3><center>Курсов Проект на тема:</center></h3>"
   ]
  },
  {
   "cell_type": "markdown",
   "metadata": {},
   "source": [
    "<h2><center>Обобщаване на \"за\" и \"против\" определен продукт/марка във форума БГ-Мама (http://www.bg-mamma.com)</center></h2>"
   ]
  },
  {
   "cell_type": "markdown",
   "metadata": {},
   "source": [
    "\n",
    "\n",
    "Студент: Мария Георгиева Рангелова, Емил Калинов Николов\n",
    "\n",
    "Факултетен номер:  25784, 25673\n",
    "\n",
    "Курс: Извличане на информация\n",
    "\n",
    "Преподавате: проф. Иван Койчев\n",
    "\n",
    "Дата: София, 2018 г."
   ]
  },
  {
   "cell_type": "markdown",
   "metadata": {},
   "source": [
    "### Съдържание\n",
    "\n",
    "    1. Увод\n",
    "    2. Използвани технологии и платформи\n",
    "    3. Данни\n",
    "    4. Реализация и експерименти\n",
    "        4.1. Алгоритъм за намиране на най-близките съседи\n",
    "            4.1.1 Подобрения\n",
    "        4.2. Наивен Бейсов класификатор\n",
    "        4.3. Логистична регресия\n",
    "    5. Заключение"
   ]
  },
  {
   "cell_type": "markdown",
   "metadata": {},
   "source": [
    "----"
   ]
  },
  {
   "cell_type": "markdown",
   "metadata": {},
   "source": [
    "# 1. Увод"
   ]
  },
  {
   "cell_type": "markdown",
   "metadata": {},
   "source": [
    "В днешно време интернет е източник на голямо количество информация. В последните години все повече хора изразяват идеите, мненията и възгледите си в социалните мрежи (напр. Twitter, Facebook, Quora, форуми и т.н.). Защо искаме да знаем какво мислят всички тези хора? Да си представим, че имаме бизнес и предлагаме определен продукт или услуга. В основата на успешния бизнес стоят потребителите и мнението им за продуктът, който получават. Методите за извличане на информация от данни и машинно самообучение ни дават силни инструменти, с помощта на които можем да разберем какво говорят потребителите ни за нас и в частност - дали преобладаващото мнение е положително или отрицателно. Знаейки реакциите нашите купувачи, имаме силно оръжие да провеждаме стратегически насочени маркетинг кампании, да ангажираме повече хора, да работим върху слабите места и да усъвършенстваме още повече силните. Всичко това, разбира се, води до по-големи продажби, което е и крайната цел на всеки един бизнес.\n",
    "Да разгледаме един пример: Нека фирмата ни е специализирана в сектора за производство на козметика. Наскоро сме изработили нов продукт, който е подкрепен от обемна маркетинг кампания. След анализ на мнението на потребителите, обаче, се оказва, че потребителите изразяват силно негативни мнения заради отрицателно въздействие върху околната среда при производството на продукта. Как тези знания могат да ни помогнат? От една страна, можем да изградим стратегия за получаване на обратна връзка от по-малка аудитория потребители преди да пуснем продуктите си на пазара. В текущата ситуация можем да оттеглим продукта и публично да дарим всички приходи от него на организация или сдружение, борещо се със замърсяванията на околната среда. \n",
    "\n",
    "Целта на настоящия проект е да разгледа различни подходи за извличане на информация от данни и машинно самообучение с цел обобщаване на мнението на потребители във форум за определен продукт или услуга. Данните, които ще анализираме са от известен български форум - БГ-Мама (http://www.bg-mamma.com)."
   ]
  },
  {
   "cell_type": "markdown",
   "metadata": {},
   "source": [
    "# 2. Използвани технологии и платформи"
   ]
  },
  {
   "cell_type": "markdown",
   "metadata": {},
   "source": [
    "Настоящият проект е реализиран с Python. Използвани са следните библиотеки:\n",
    "- [pandas](https://pandas.pydata.org) - предоставя бърз и лесен начин за работа с таблични данни\n",
    "- [numpy](http://www.numpy.org) - мощен инструмент за работа с n-мерни данни\n",
    "- [matplotlib]() - пакет за визуализация\n",
    "- [nltk](http://www.nltk.org) - водеща платформа за работа с естествен език и обработка на текст\n",
    "- [sclearn](http://scikit-learn.org) - предоставя инструменти за анализ и машинно самообучение на данни\n",
    "- [gensim](https://radimrehurek.com/gensim)- анализира семантичната структура на документи с естествен език\n",
    "- [bg-mamma](https://github.com/mrangelova/bg-mamma) - пакет, разработен специално за нуждите на проекта. Включва:\n",
    "    - методи за автоматично сваляне на ревюта и постове от [Амазон](https://www.amazon.com) и [БГ-Мама](http://www.bg-mamma.com) \n",
    "    - методи за предварителна обработка на коментари - премахване на излишни символи и  URL-и, превод, stemming, тоукънизация\n",
    "    - основни класове, изградени около абстракцията за обект, който представлява Ревю на продукт\n",
    "- вградени библиотеки - os, sys, warnings\n",
    "\n",
    "По време на реализацията на проекта е използван [Jupyter Notebook](https://jupyter.org) - уеб-базирана платформа, която позволява лесно споделяне на код."
   ]
  },
  {
   "cell_type": "code",
   "execution_count": 99,
   "metadata": {
    "collapsed": true
   },
   "outputs": [],
   "source": [
    "import os\n",
    "import sys\n",
    "import matplotlib.pyplot as plt\n",
    "import pandas as pd\n",
    "import numpy as np\n",
    "import warnings\n",
    "\n",
    "%matplotlib inline\n",
    "warnings.filterwarnings('ignore')\n",
    "sys.path.append(r'/Users/maria/FMI/Information Retrieval/bg-mamma/bg-mamma/')"
   ]
  },
  {
   "cell_type": "markdown",
   "metadata": {},
   "source": [
    "# 3. Данни"
   ]
  },
  {
   "cell_type": "markdown",
   "metadata": {},
   "source": [
    "Ще обобщаваме мненията за продуктите на марката *Estee Lauder*. Защо избрахме тази тема:\n",
    "    - марката е популярна сред потребителите\n",
    "    - в много от другите теми се обсъждат и сравняват продукти от различни марки\n",
    "    - продава се навсякъде по света => има мнения и в Amazon\n",
    "\n",
    "\n",
    "Данните:\n",
    "Свалихме общо 1374 поста от БГ-Мама. Целта е да определим колко позитивен е всеки коментар.\n",
    "За да можем да валидираме колко добре се представя класификаторът, който ще построим, сложихме рейтинг (1-5) на всеки пост. Да видим как изглеждат:"
   ]
  },
  {
   "cell_type": "code",
   "execution_count": 102,
   "metadata": {},
   "outputs": [
    {
     "data": {
      "text/html": [
       "<div>\n",
       "<style>\n",
       "    .dataframe thead tr:only-child th {\n",
       "        text-align: right;\n",
       "    }\n",
       "\n",
       "    .dataframe thead th {\n",
       "        text-align: left;\n",
       "    }\n",
       "\n",
       "    .dataframe tbody tr th {\n",
       "        vertical-align: top;\n",
       "    }\n",
       "</style>\n",
       "<table border=\"1\" class=\"dataframe\">\n",
       "  <thead>\n",
       "    <tr style=\"text-align: right;\">\n",
       "      <th></th>\n",
       "      <th>post</th>\n",
       "      <th>rating</th>\n",
       "    </tr>\n",
       "  </thead>\n",
       "  <tbody>\n",
       "    <tr>\n",
       "      <th>0</th>\n",
       "      <td>Коментарна тема за марката и нейните продуктит...</td>\n",
       "      <td>0.0</td>\n",
       "    </tr>\n",
       "    <tr>\n",
       "      <th>1</th>\n",
       "      <td>Най-любимия ми продукт на ЕЛ е серум ANR</td>\n",
       "      <td>5.0</td>\n",
       "    </tr>\n",
       "    <tr>\n",
       "      <th>2</th>\n",
       "      <td>Благодаря за темата, Денси Аз не съм пробвала ...</td>\n",
       "      <td>0.0</td>\n",
       "    </tr>\n",
       "    <tr>\n",
       "      <th>3</th>\n",
       "      <td>От това, което съм ползвала от бялата козметик...</td>\n",
       "      <td>5.0</td>\n",
       "    </tr>\n",
       "    <tr>\n",
       "      <th>4</th>\n",
       "      <td>Благодаря за темата! Аз не съм ползвала, но ми...</td>\n",
       "      <td>0.0</td>\n",
       "    </tr>\n",
       "  </tbody>\n",
       "</table>\n",
       "</div>"
      ],
      "text/plain": [
       "                                                post  rating\n",
       "0  Коментарна тема за марката и нейните продуктит...     0.0\n",
       "1           Най-любимия ми продукт на ЕЛ е серум ANR     5.0\n",
       "2  Благодаря за темата, Денси Аз не съм пробвала ...     0.0\n",
       "3  От това, което съм ползвала от бялата козметик...     5.0\n",
       "4  Благодаря за темата! Аз не съм ползвала, но ми...     0.0"
      ]
     },
     "execution_count": 102,
     "metadata": {},
     "output_type": "execute_result"
    }
   ],
   "source": [
    "from src.reviews import BGMammaReviews\n",
    "\n",
    "bg_mamma_posts = BGMammaReviews.get()\n",
    "bg_mamma_posts.head()"
   ]
  },
  {
   "cell_type": "markdown",
   "metadata": {},
   "source": [
    "Нека разгледаме и разпределението на постовете по рейтинг:"
   ]
  },
  {
   "cell_type": "code",
   "execution_count": 33,
   "metadata": {},
   "outputs": [
    {
     "data": {
      "image/png": "[encoded data removed]",
      "text/plain": [
       "<matplotlib.figure.Figure at 0x11f2d2630>"
      ]
     },
     "metadata": {},
     "output_type": "display_data"
    }
   ],
   "source": [
    "bg_mamma_posts.plot_by_rating()"
   ]
  },
  {
   "cell_type": "markdown",
   "metadata": {},
   "source": [
    "Оказва се, че много от коментарите не изразяват никакво мнение за продукт. Такива, например, са постове, които целят получаване на допълнителна информация, коментари за текущи промоции, и т.н. Тези коментари са обозначени с рейтинг 0 и няма да се използват при изчисляването на точността на класификатора. Можем да видим произволен такъв пример:"
   ]
  },
  {
   "cell_type": "code",
   "execution_count": 97,
   "metadata": {},
   "outputs": [
    {
     "data": {
      "text/plain": [
       "'Блазни ме това намаление, но ще видя дали ще купя нещо. Аз друг път получавах СМСи, но за това намаление не съм, видях случайно във фейсбук. Дали са спрели СМС известяването?'"
      ]
     },
     "execution_count": 97,
     "metadata": {},
     "output_type": "execute_result"
    }
   ],
   "source": [
    "bg_mamma_posts.iloc[np.random.choice(bg_mamma_posts[bg_mamma_posts.rating == 0].index)]['post']"
   ]
  },
  {
   "cell_type": "markdown",
   "metadata": {},
   "source": [
    "Махаме всички постове, които не изразяват конкретно мнение за продуктите на *Estee Lauder*. Ето новто разпределението по рейтинг:"
   ]
  },
  {
   "cell_type": "code",
   "execution_count": 9,
   "metadata": {
    "scrolled": false
   },
   "outputs": [
    {
     "data": {
      "image/png": "[encoded data removed]",
      "text/plain": [
       "<matplotlib.figure.Figure at 0x11f077cc0>"
      ]
     },
     "metadata": {},
     "output_type": "display_data"
    }
   ],
   "source": [
    "bg_mamma_posts.remove_irrelevant_posts()\n",
    "bg_mamma_posts.plot_by_rating()"
   ]
  },
  {
   "cell_type": "markdown",
   "metadata": {},
   "source": [
    "За да построим модел, който класифицира един пост като позитивен, негативен или неутрален, ще използваме ревюта за продукти от същата марка, които ще свалим от Амазон."
   ]
  },
  {
   "cell_type": "code",
   "execution_count": 103,
   "metadata": {},
   "outputs": [
    {
     "name": "stdout",
     "output_type": "stream",
     "text": [
      "Брой ревюта: 6865\n"
     ]
    },
    {
     "data": {
      "text/html": [
       "<div>\n",
       "<style>\n",
       "    .dataframe thead tr:only-child th {\n",
       "        text-align: right;\n",
       "    }\n",
       "\n",
       "    .dataframe thead th {\n",
       "        text-align: left;\n",
       "    }\n",
       "\n",
       "    .dataframe tbody tr th {\n",
       "        vertical-align: top;\n",
       "    }\n",
       "</style>\n",
       "<table border=\"1\" class=\"dataframe\">\n",
       "  <thead>\n",
       "    <tr style=\"text-align: right;\">\n",
       "      <th></th>\n",
       "      <th>post</th>\n",
       "      <th>rating</th>\n",
       "    </tr>\n",
       "  </thead>\n",
       "  <tbody>\n",
       "    <tr>\n",
       "      <th>0</th>\n",
       "      <td>Not sure if this was legit product...container...</td>\n",
       "      <td>2.0</td>\n",
       "    </tr>\n",
       "    <tr>\n",
       "      <th>1</th>\n",
       "      <td>This is the best sample from Estee Lauder. It'...</td>\n",
       "      <td>5.0</td>\n",
       "    </tr>\n",
       "    <tr>\n",
       "      <th>2</th>\n",
       "      <td>Perfect size for air-plane travel, does the jo...</td>\n",
       "      <td>5.0</td>\n",
       "    </tr>\n",
       "    <tr>\n",
       "      <th>3</th>\n",
       "      <td>It's realy worked. My skine smooth and clean. ...</td>\n",
       "      <td>5.0</td>\n",
       "    </tr>\n",
       "    <tr>\n",
       "      <th>4</th>\n",
       "      <td>Feels so great on my face. I love the smell</td>\n",
       "      <td>4.0</td>\n",
       "    </tr>\n",
       "  </tbody>\n",
       "</table>\n",
       "</div>"
      ],
      "text/plain": [
       "                                                post  rating\n",
       "0  Not sure if this was legit product...container...     2.0\n",
       "1  This is the best sample from Estee Lauder. It'...     5.0\n",
       "2  Perfect size for air-plane travel, does the jo...     5.0\n",
       "3  It's realy worked. My skine smooth and clean. ...     5.0\n",
       "4        Feels so great on my face. I love the smell     4.0"
      ]
     },
     "execution_count": 103,
     "metadata": {},
     "output_type": "execute_result"
    }
   ],
   "source": [
    "from src.reviews import AmazonReviews\n",
    "\n",
    "amazon_reviews = AmazonReviews.get()\n",
    "print('Брой ревюта: {}'.format(amazon_reviews.shape[0]))\n",
    "amazon_reviews.head()"
   ]
  },
  {
   "cell_type": "markdown",
   "metadata": {
    "collapsed": true
   },
   "source": [
    "Разполагаме с 6865 ревюта от Амазон. Възможно е да има лиспващи стойности в тези данни. Да проверим:"
   ]
  },
  {
   "cell_type": "code",
   "execution_count": 11,
   "metadata": {},
   "outputs": [
    {
     "data": {
      "text/plain": [
       "True"
      ]
     },
     "execution_count": 11,
     "metadata": {},
     "output_type": "execute_result"
    }
   ],
   "source": [
    "any(amazon_reviews.isnull())"
   ]
  },
  {
   "cell_type": "markdown",
   "metadata": {
    "collapsed": true
   },
   "source": [
    "Нека се отървем от записите, в които липсва пост или рейтинг."
   ]
  },
  {
   "cell_type": "code",
   "execution_count": 12,
   "metadata": {},
   "outputs": [
    {
     "data": {
      "text/plain": [
       "(6864, 2)"
      ]
     },
     "execution_count": 12,
     "metadata": {},
     "output_type": "execute_result"
    }
   ],
   "source": [
    "amazon_reviews = AmazonReviews(amazon_reviews.dropna())\n",
    "amazon_reviews.shape"
   ]
  },
  {
   "cell_type": "markdown",
   "metadata": {},
   "source": [
    "Записите намаляха само с 1 и не си струва да търсим каква е била причината той да има липсваща стойност."
   ]
  },
  {
   "cell_type": "markdown",
   "metadata": {},
   "source": [
    "Да разгледаме и разпределението на ревютата от Амазон по рейтинг:"
   ]
  },
  {
   "cell_type": "code",
   "execution_count": 14,
   "metadata": {},
   "outputs": [
    {
     "data": {
      "image/png": "[encoded data removed]",
      "text/plain": [
       "<matplotlib.figure.Figure at 0x11f273978>"
      ]
     },
     "metadata": {},
     "output_type": "display_data"
    }
   ],
   "source": [
    "amazon_reviews.plot_by_rating('Amazon reviews by rating')"
   ]
  },
  {
   "cell_type": "markdown",
   "metadata": {},
   "source": [
    "Както в данните от БГ-Мама, така и тук, имаме преобладаващ рейтинг '5'. Да видим какво ще се случи ако не тренираме модели и зададем на всички постове рейтинг 5:"
   ]
  },
  {
   "cell_type": "code",
   "execution_count": 18,
   "metadata": {},
   "outputs": [
    {
     "name": "stdout",
     "output_type": "stream",
     "text": [
      "Accuracy:  0.427895981087\n",
      "             precision    recall  f1-score   support\n",
      "\n",
      "        1.0       0.00      0.00      0.00        44\n",
      "        2.0       0.00      0.00      0.00        54\n",
      "        3.0       0.00      0.00      0.00        69\n",
      "        4.0       0.00      0.00      0.00        75\n",
      "        5.0       0.43      1.00      0.60       181\n",
      "\n",
      "avg / total       0.18      0.43      0.26       423\n",
      "\n"
     ]
    }
   ],
   "source": [
    "from sklearn.metrics import accuracy_score, classification_report\n",
    "\n",
    "print('Accuracy: ', accuracy_score(bg_mamma_posts.rating, [5] * bg_mamma_posts.shape[0]))\n",
    "print(classification_report(bg_mamma_posts.rating, [5] * bg_mamma_posts.shape[0]))"
   ]
  },
  {
   "cell_type": "markdown",
   "metadata": {},
   "source": [
    "Целта ни е да подобрим тези метрики."
   ]
  },
  {
   "cell_type": "markdown",
   "metadata": {},
   "source": [
    "# 4. Реализация"
   ]
  },
  {
   "cell_type": "markdown",
   "metadata": {},
   "source": [
    "## 4.1 Алгоритъм за намиране на най-близки съседи"
   ]
  },
  {
   "cell_type": "markdown",
   "metadata": {},
   "source": [
    "Ще разгледаме един сравнително нов подход за анализиране на мнението на потребители от форум. За целта ще използваме *word2vec*. *word2vec* е група Deep Learning модели, разработени от Гугъл. Основната цел е да се улови контекста, в който дадена дума се използва. Входните данни обикновено са голям корпус от документи - новини, статии, постове в различни социални мрежи (Facebook, Twitter, форуми) и т.н. Моделът генерира векторно пространство, обикновен с няколко стотин измерения. На всяка дума от корпуса се съпоставя уникален вектор в това пространство. В последствие, тъй като всеки пост е една колекция от думи, постовете също могат да се представят като вектори.\n",
    "\n",
    "Мощта на този алгоритъм се крие в това, че вектори, които са близки в изграденото пространство, съответстват на думи, които се използват в сходен контекст.\n",
    "\n",
    "Eто един пример за такова векторно пространство:"
   ]
  },
  {
   "cell_type": "markdown",
   "metadata": {},
   "source": [
    "<img src=\"word2vec.png\">"
   ]
  },
  {
   "cell_type": "markdown",
   "metadata": {},
   "source": [
    "На по-глобално ниво, word2vec влага нетривиални семантични и синтактични връзки между думите. "
   ]
  },
  {
   "cell_type": "markdown",
   "metadata": {},
   "source": [
    "Как можем да използваме word2vec в рамките на настоящия проект? Нека първо разгледаме данните, с които разполагаме."
   ]
  },
  {
   "cell_type": "markdown",
   "metadata": {},
   "source": [
    "Следващата стъпка е да превърнем всяко ревю в лист от тоукъни. За целта ще използваме метода *tokenize*. Той автоматично премахва URL-и, числа и специални символи (@, #, %, & и т.н.)."
   ]
  },
  {
   "cell_type": "code",
   "execution_count": 42,
   "metadata": {},
   "outputs": [
    {
     "data": {
      "text/html": [
       "<div>\n",
       "<style>\n",
       "    .dataframe thead tr:only-child th {\n",
       "        text-align: right;\n",
       "    }\n",
       "\n",
       "    .dataframe thead th {\n",
       "        text-align: left;\n",
       "    }\n",
       "\n",
       "    .dataframe tbody tr th {\n",
       "        vertical-align: top;\n",
       "    }\n",
       "</style>\n",
       "<table border=\"1\" class=\"dataframe\">\n",
       "  <thead>\n",
       "    <tr style=\"text-align: right;\">\n",
       "      <th></th>\n",
       "      <th>post</th>\n",
       "      <th>rating</th>\n",
       "      <th>tokens</th>\n",
       "    </tr>\n",
       "  </thead>\n",
       "  <tbody>\n",
       "    <tr>\n",
       "      <th>0</th>\n",
       "      <td>Not sure if this was legit product...container...</td>\n",
       "      <td>1</td>\n",
       "      <td>[not, sure, if, this, was, legit, productconta...</td>\n",
       "    </tr>\n",
       "    <tr>\n",
       "      <th>1</th>\n",
       "      <td>This is the best sample from Estee Lauder. It'...</td>\n",
       "      <td>3</td>\n",
       "      <td>[this, is, the, best, sample, from, estee, lau...</td>\n",
       "    </tr>\n",
       "    <tr>\n",
       "      <th>2</th>\n",
       "      <td>Perfect size for air-plane travel, does the jo...</td>\n",
       "      <td>3</td>\n",
       "      <td>[perfect, size, for, airplane, travel, does, t...</td>\n",
       "    </tr>\n",
       "    <tr>\n",
       "      <th>3</th>\n",
       "      <td>It's realy worked. My skine smooth and clean. ...</td>\n",
       "      <td>3</td>\n",
       "      <td>[its, realy, worked, my, skine, smooth, and, c...</td>\n",
       "    </tr>\n",
       "    <tr>\n",
       "      <th>4</th>\n",
       "      <td>Feels so great on my face. I love the smell</td>\n",
       "      <td>3</td>\n",
       "      <td>[feels, so, great, on, my, face, i, love, the,...</td>\n",
       "    </tr>\n",
       "  </tbody>\n",
       "</table>\n",
       "</div>"
      ],
      "text/plain": [
       "                                                post  rating  \\\n",
       "0  Not sure if this was legit product...container...       1   \n",
       "1  This is the best sample from Estee Lauder. It'...       3   \n",
       "2  Perfect size for air-plane travel, does the jo...       3   \n",
       "3  It's realy worked. My skine smooth and clean. ...       3   \n",
       "4        Feels so great on my face. I love the smell       3   \n",
       "\n",
       "                                              tokens  \n",
       "0  [not, sure, if, this, was, legit, productconta...  \n",
       "1  [this, is, the, best, sample, from, estee, lau...  \n",
       "2  [perfect, size, for, airplane, travel, does, t...  \n",
       "3  [its, realy, worked, my, skine, smooth, and, c...  \n",
       "4  [feels, so, great, on, my, face, i, love, the,...  "
      ]
     },
     "execution_count": 42,
     "metadata": {},
     "output_type": "execute_result"
    }
   ],
   "source": [
    "amazon_reviews.tokenize()\n",
    "amazon_reviews.head()"
   ]
  },
  {
   "cell_type": "markdown",
   "metadata": {},
   "source": [
    "Ще използваме тези тоукъни, за да построим 100-мерно векторно пространство."
   ]
  },
  {
   "cell_type": "code",
   "execution_count": 43,
   "metadata": {
    "collapsed": true
   },
   "outputs": [],
   "source": [
    "vector_space = amazon_reviews.build_vector_space(size=100, min_count=10)"
   ]
  },
  {
   "cell_type": "markdown",
   "metadata": {},
   "source": [
    "Всяка дума в това пространство отговаря на 100-мерен вектор:"
   ]
  },
  {
   "cell_type": "code",
   "execution_count": 42,
   "metadata": {},
   "outputs": [
    {
     "data": {
      "text/plain": [
       "array([ 0.11300308,  0.04681032,  0.34179127, -0.17982493,  0.2970587 ,\n",
       "        0.18746166, -0.24354132, -0.17174743, -0.31484151,  0.1280055 ,\n",
       "        0.08223501, -0.32306126, -0.39622968, -0.29122311,  0.44754118,\n",
       "       -0.00367181, -0.35660142,  0.32638353,  0.22006869,  0.13506196,\n",
       "       -0.44793072,  0.13166739,  0.03721407, -0.12676589,  0.31869623,\n",
       "       -0.04480034, -0.23399897,  0.09405845,  0.31732759,  0.09196374,\n",
       "       -0.06441321,  0.12136381, -0.03771603, -0.31280133,  0.00968495,\n",
       "        0.39051545, -0.07385074,  0.05792573,  0.1991633 , -0.04747236,\n",
       "       -0.12317146,  0.274223  ,  0.05788882, -0.13570455,  0.37136844,\n",
       "       -0.21500359,  0.05566265, -0.27657163, -0.11910591, -0.12065234,\n",
       "        0.10873035,  0.17829643,  0.52514589,  0.28440502,  0.16288072,\n",
       "       -0.14077958, -0.31173119, -0.01866563,  0.03317541, -0.09925367,\n",
       "       -0.37056145,  0.26832956, -0.2263654 , -0.29232839,  0.21350957,\n",
       "        0.12208592, -0.00663977, -0.17514983, -0.3386229 , -0.1202197 ,\n",
       "       -0.1043359 , -0.13703442, -0.08997086, -0.03128324, -0.47085801,\n",
       "        0.32889494,  0.22216375, -0.01903521,  0.0290757 , -0.15647797,\n",
       "        0.13010269,  0.05003652, -0.00285121, -0.07812748, -0.03994843,\n",
       "       -0.04077874,  0.13735841,  0.13580883,  0.40406153, -0.02638706,\n",
       "       -0.04331611,  0.28473344, -0.16957456, -0.0089616 , -0.31300706,\n",
       "       -0.04769063, -0.00419706, -0.1496509 , -0.10044245, -0.44554767], dtype=float32)"
      ]
     },
     "execution_count": 42,
     "metadata": {},
     "output_type": "execute_result"
    }
   ],
   "source": [
    "vector_space['wonderful']"
   ]
  },
  {
   "cell_type": "code",
   "execution_count": 43,
   "metadata": {},
   "outputs": [
    {
     "data": {
      "text/plain": [
       "[('stuff', 0.9949496388435364),\n",
       " ('his', 0.9948854446411133),\n",
       " ('excellent', 0.9939426183700562),\n",
       " ('liked', 0.9933417439460754),\n",
       " ('surprise', 0.9928218126296997),\n",
       " ('shes', 0.992737352848053),\n",
       " ('wears', 0.9921606183052063),\n",
       " ('recipient', 0.9920589327812195),\n",
       " ('knew', 0.9918657541275024),\n",
       " ('lady', 0.9918444752693176)]"
      ]
     },
     "execution_count": 43,
     "metadata": {},
     "output_type": "execute_result"
    }
   ],
   "source": [
    "vector_space.most_similar('wonderful')"
   ]
  },
  {
   "cell_type": "markdown",
   "metadata": {},
   "source": [
    "Нека сега преминем към класификационната част. Вече можем да превръщаме думи във вектори. За да можем да класифицираме цели постове, трябва да намерим начин да превръщаме пост във вектор. Как да го направим? Тъй като вече знаем векторното представяне на всяка дума, можем да направим комбинация от всички вектори на думи, които съставят даден пост и да получим нов вектор, който съответства на поста като цяло. Един възможен подход е да вземем средно-аритметичното на векторите в един пост. Друг подход, който ще изпробваме, е да намерим претеглено средно, като теглото на всяка дума съответства на нейната \"значимост\" в корпуса. Такава мярка можем да пресметнем чрез TF-IDF индекс."
   ]
  },
  {
   "cell_type": "code",
   "execution_count": 44,
   "metadata": {
    "scrolled": true
   },
   "outputs": [
    {
     "data": {
      "text/html": [
       "<div>\n",
       "<style>\n",
       "    .dataframe thead tr:only-child th {\n",
       "        text-align: right;\n",
       "    }\n",
       "\n",
       "    .dataframe thead th {\n",
       "        text-align: left;\n",
       "    }\n",
       "\n",
       "    .dataframe tbody tr th {\n",
       "        vertical-align: top;\n",
       "    }\n",
       "</style>\n",
       "<table border=\"1\" class=\"dataframe\">\n",
       "  <thead>\n",
       "    <tr style=\"text-align: right;\">\n",
       "      <th></th>\n",
       "      <th>post</th>\n",
       "      <th>rating</th>\n",
       "      <th>tokens</th>\n",
       "      <th>vector</th>\n",
       "    </tr>\n",
       "  </thead>\n",
       "  <tbody>\n",
       "    <tr>\n",
       "      <th>0</th>\n",
       "      <td>Not sure if this was legit product...container...</td>\n",
       "      <td>1</td>\n",
       "      <td>[not, sure, if, this, was, legit, productconta...</td>\n",
       "      <td>[1.8213480306523187, 0.474140672744917, -0.046...</td>\n",
       "    </tr>\n",
       "    <tr>\n",
       "      <th>1</th>\n",
       "      <td>This is the best sample from Estee Lauder. It'...</td>\n",
       "      <td>3</td>\n",
       "      <td>[this, is, the, best, sample, from, estee, lau...</td>\n",
       "      <td>[1.805970319481783, 0.28394528777273587, 0.048...</td>\n",
       "    </tr>\n",
       "    <tr>\n",
       "      <th>2</th>\n",
       "      <td>Perfect size for air-plane travel, does the jo...</td>\n",
       "      <td>3</td>\n",
       "      <td>[perfect, size, for, airplane, travel, does, t...</td>\n",
       "      <td>[2.114222009976705, 0.35790004601909053, -0.01...</td>\n",
       "    </tr>\n",
       "    <tr>\n",
       "      <th>3</th>\n",
       "      <td>It's realy worked. My skine smooth and clean. ...</td>\n",
       "      <td>3</td>\n",
       "      <td>[its, realy, worked, my, skine, smooth, and, c...</td>\n",
       "      <td>[2.1752415895462036, 0.25662633776664734, -0.0...</td>\n",
       "    </tr>\n",
       "    <tr>\n",
       "      <th>4</th>\n",
       "      <td>Feels so great on my face. I love the smell</td>\n",
       "      <td>3</td>\n",
       "      <td>[feels, so, great, on, my, face, i, love, the,...</td>\n",
       "      <td>[1.7688716411590577, 0.33587713688611986, -0.0...</td>\n",
       "    </tr>\n",
       "  </tbody>\n",
       "</table>\n",
       "</div>"
      ],
      "text/plain": [
       "                                                post  rating  \\\n",
       "0  Not sure if this was legit product...container...       1   \n",
       "1  This is the best sample from Estee Lauder. It'...       3   \n",
       "2  Perfect size for air-plane travel, does the jo...       3   \n",
       "3  It's realy worked. My skine smooth and clean. ...       3   \n",
       "4        Feels so great on my face. I love the smell       3   \n",
       "\n",
       "                                              tokens  \\\n",
       "0  [not, sure, if, this, was, legit, productconta...   \n",
       "1  [this, is, the, best, sample, from, estee, lau...   \n",
       "2  [perfect, size, for, airplane, travel, does, t...   \n",
       "3  [its, realy, worked, my, skine, smooth, and, c...   \n",
       "4  [feels, so, great, on, my, face, i, love, the,...   \n",
       "\n",
       "                                              vector  \n",
       "0  [1.8213480306523187, 0.474140672744917, -0.046...  \n",
       "1  [1.805970319481783, 0.28394528777273587, 0.048...  \n",
       "2  [2.114222009976705, 0.35790004601909053, -0.01...  \n",
       "3  [2.1752415895462036, 0.25662633776664734, -0.0...  \n",
       "4  [1.7688716411590577, 0.33587713688611986, -0.0...  "
      ]
     },
     "execution_count": 44,
     "metadata": {},
     "output_type": "execute_result"
    }
   ],
   "source": [
    "amazon_reviews.vectorize(vector_space=vector_space)\n",
    "amazon_reviews.head()"
   ]
  },
  {
   "cell_type": "code",
   "execution_count": 45,
   "metadata": {},
   "outputs": [
    {
     "name": "stdout",
     "output_type": "stream",
     "text": [
      "Мнение: \n",
      " This is the best sample from Estee Lauder. It's so luxurious and the size of the tubes for the price turned out to be a very good deal. Only use a little bit! I liked to never rinsed my face the first time I used it.\n",
      "Оценка на продукт: \n",
      " 3\n",
      "Дължина на вектор: \n",
      " 100\n"
     ]
    }
   ],
   "source": [
    "print('Мнение: \\n', amazon_reviews.iloc[1]['post'])\n",
    "print('Оценка на продукт: \\n', amazon_reviews.iloc[1]['rating'])\n",
    "print('Дължина на вектор: \\n', len(amazon_reviews.iloc[1]['vector']))"
   ]
  },
  {
   "cell_type": "markdown",
   "metadata": {},
   "source": [
    "И така, можем лесно да превръщаме ревю във вектор. Първият модел, който ще изпробваме е Алгоритъм за най-близки съседи. Класификацията ще се извършва на базата на 4 най-близки съседи. Избираме малко на брой съседи, тъй като данните съдържат много голям процент ревюта с максимален рейтинг => при избор на по-голям брой съседи е все по- вероятно по-голямата част от тях да бъдат с рейтинг 5."
   ]
  },
  {
   "cell_type": "code",
   "execution_count": 16,
   "metadata": {
    "collapsed": true
   },
   "outputs": [],
   "source": [
    "from sklearn.neighbors import KNeighborsClassifier\n",
    "\n",
    "knn = KNeighborsClassifier(n_neighbors=4)\n",
    "knn.fit(amazon_reviews.vector.tolist(), amazon_reviews.rating)"
   ]
  },
  {
   "cell_type": "markdown",
   "metadata": {},
   "source": [
    "След като имаме трениран класификатор, е време да го приложим към постовете от БГ-Мама. Класификаторът очаква като вход 100-мерен вектор. За целта постовете ще минат през същата обработка като ревютата от Амазон. Тъй като корпусът ни е на английски език, има и една допълнителна стъпка - преди да изведем списък от тоукъни, превеждаме всеки пост от български на английски език. После създаваме вектор от така получения списък и прилагаме класификатора:"
   ]
  },
  {
   "cell_type": "markdown",
   "metadata": {},
   "source": [
    "Сега вече можем да приложим класификатора:"
   ]
  },
  {
   "cell_type": "code",
   "execution_count": 48,
   "metadata": {},
   "outputs": [
    {
     "data": {
      "text/html": [
       "<div>\n",
       "<style>\n",
       "    .dataframe thead tr:only-child th {\n",
       "        text-align: right;\n",
       "    }\n",
       "\n",
       "    .dataframe thead th {\n",
       "        text-align: left;\n",
       "    }\n",
       "\n",
       "    .dataframe tbody tr th {\n",
       "        vertical-align: top;\n",
       "    }\n",
       "</style>\n",
       "<table border=\"1\" class=\"dataframe\">\n",
       "  <thead>\n",
       "    <tr style=\"text-align: right;\">\n",
       "      <th></th>\n",
       "      <th>post</th>\n",
       "      <th>rating</th>\n",
       "      <th>tokens</th>\n",
       "      <th>vector</th>\n",
       "      <th>predicted_rating</th>\n",
       "    </tr>\n",
       "  </thead>\n",
       "  <tbody>\n",
       "    <tr>\n",
       "      <th>0</th>\n",
       "      <td>Най-любимия ми продукт на ЕЛ е серум ANR</td>\n",
       "      <td>5.0</td>\n",
       "      <td>[my, laughable, product, of, el, is, serum, anr]</td>\n",
       "      <td>[0.4557494322458903, 0.10588843235746026, 1.30...</td>\n",
       "      <td>5.0</td>\n",
       "    </tr>\n",
       "    <tr>\n",
       "      <th>1</th>\n",
       "      <td>От това, което съм ползвала от бялата козметик...</td>\n",
       "      <td>5.0</td>\n",
       "      <td>[from, what, i've, been, using, white, cosmeti...</td>\n",
       "      <td>[0.5727914080023766, 0.11366697748502096, 1.22...</td>\n",
       "      <td>5.0</td>\n",
       "    </tr>\n",
       "    <tr>\n",
       "      <th>2</th>\n",
       "      <td>Не си представям и ден Без серума Advance Nigh...</td>\n",
       "      <td>5.0</td>\n",
       "      <td>[i, do, not, even, imagine, day, serum, advanc...</td>\n",
       "      <td>[-0.1573354545980692, 0.6219613775610924, 1.53...</td>\n",
       "      <td>5.0</td>\n",
       "    </tr>\n",
       "    <tr>\n",
       "      <th>3</th>\n",
       "      <td>+ resiliance lift околоочния</td>\n",
       "      <td>5.0</td>\n",
       "      <td>[+, resiliance, lift, eyebrow]</td>\n",
       "      <td>[0.6622419022023678, 0.14441713690757751, 1.60...</td>\n",
       "      <td>5.0</td>\n",
       "    </tr>\n",
       "    <tr>\n",
       "      <th>4</th>\n",
       "      <td>Моят най-любим продукт е Idealist А от декорат...</td>\n",
       "      <td>5.0</td>\n",
       "      <td>[my, lovable, product, is, idealist, a, from, ...</td>\n",
       "      <td>[0.28170268815010785, 0.18825476309284567, 1.2...</td>\n",
       "      <td>5.0</td>\n",
       "    </tr>\n",
       "  </tbody>\n",
       "</table>\n",
       "</div>"
      ],
      "text/plain": [
       "                                                post  rating  \\\n",
       "0           Най-любимия ми продукт на ЕЛ е серум ANR     5.0   \n",
       "1  От това, което съм ползвала от бялата козметик...     5.0   \n",
       "2  Не си представям и ден Без серума Advance Nigh...     5.0   \n",
       "3                       + resiliance lift околоочния     5.0   \n",
       "4  Моят най-любим продукт е Idealist А от декорат...     5.0   \n",
       "\n",
       "                                              tokens  \\\n",
       "0   [my, laughable, product, of, el, is, serum, anr]   \n",
       "1  [from, what, i've, been, using, white, cosmeti...   \n",
       "2  [i, do, not, even, imagine, day, serum, advanc...   \n",
       "3                     [+, resiliance, lift, eyebrow]   \n",
       "4  [my, lovable, product, is, idealist, a, from, ...   \n",
       "\n",
       "                                              vector  predicted_rating  \n",
       "0  [0.4557494322458903, 0.10588843235746026, 1.30...               5.0  \n",
       "1  [0.5727914080023766, 0.11366697748502096, 1.22...               5.0  \n",
       "2  [-0.1573354545980692, 0.6219613775610924, 1.53...               5.0  \n",
       "3  [0.6622419022023678, 0.14441713690757751, 1.60...               5.0  \n",
       "4  [0.28170268815010785, 0.18825476309284567, 1.2...               5.0  "
      ]
     },
     "execution_count": 48,
     "metadata": {},
     "output_type": "execute_result"
    }
   ],
   "source": [
    "(bg_mamma_posts\n",
    " .tokenize()\n",
    " .vectorize(vector_space=vector_space, tf_idf=amazon_reviews.tfidf())\n",
    " .predict_rating(knn))\n",
    "bg_mamma_posts.head()"
   ]
  },
  {
   "cell_type": "markdown",
   "metadata": {},
   "source": [
    "Да видим резултатите:"
   ]
  },
  {
   "cell_type": "code",
   "execution_count": 51,
   "metadata": {},
   "outputs": [
    {
     "data": {
      "text/html": [
       "<div>\n",
       "<style>\n",
       "    .dataframe thead tr:only-child th {\n",
       "        text-align: right;\n",
       "    }\n",
       "\n",
       "    .dataframe thead th {\n",
       "        text-align: left;\n",
       "    }\n",
       "\n",
       "    .dataframe tbody tr th {\n",
       "        vertical-align: top;\n",
       "    }\n",
       "</style>\n",
       "<table border=\"1\" class=\"dataframe\">\n",
       "  <thead>\n",
       "    <tr style=\"text-align: right;\">\n",
       "      <th>predicted_rating</th>\n",
       "      <th>1.0</th>\n",
       "      <th>2.0</th>\n",
       "      <th>3.0</th>\n",
       "      <th>4.0</th>\n",
       "      <th>5.0</th>\n",
       "    </tr>\n",
       "    <tr>\n",
       "      <th>rating</th>\n",
       "      <th></th>\n",
       "      <th></th>\n",
       "      <th></th>\n",
       "      <th></th>\n",
       "      <th></th>\n",
       "    </tr>\n",
       "  </thead>\n",
       "  <tbody>\n",
       "    <tr>\n",
       "      <th>1.0</th>\n",
       "      <td>12</td>\n",
       "      <td>1</td>\n",
       "      <td>3</td>\n",
       "      <td>3</td>\n",
       "      <td>25</td>\n",
       "    </tr>\n",
       "    <tr>\n",
       "      <th>2.0</th>\n",
       "      <td>15</td>\n",
       "      <td>2</td>\n",
       "      <td>5</td>\n",
       "      <td>1</td>\n",
       "      <td>31</td>\n",
       "    </tr>\n",
       "    <tr>\n",
       "      <th>3.0</th>\n",
       "      <td>17</td>\n",
       "      <td>0</td>\n",
       "      <td>6</td>\n",
       "      <td>5</td>\n",
       "      <td>41</td>\n",
       "    </tr>\n",
       "    <tr>\n",
       "      <th>4.0</th>\n",
       "      <td>18</td>\n",
       "      <td>2</td>\n",
       "      <td>7</td>\n",
       "      <td>5</td>\n",
       "      <td>43</td>\n",
       "    </tr>\n",
       "    <tr>\n",
       "      <th>5.0</th>\n",
       "      <td>37</td>\n",
       "      <td>6</td>\n",
       "      <td>9</td>\n",
       "      <td>11</td>\n",
       "      <td>118</td>\n",
       "    </tr>\n",
       "  </tbody>\n",
       "</table>\n",
       "</div>"
      ],
      "text/plain": [
       "predicted_rating  1.0  2.0  3.0  4.0  5.0\n",
       "rating                                   \n",
       "1.0                12    1    3    3   25\n",
       "2.0                15    2    5    1   31\n",
       "3.0                17    0    6    5   41\n",
       "4.0                18    2    7    5   43\n",
       "5.0                37    6    9   11  118"
      ]
     },
     "execution_count": 51,
     "metadata": {},
     "output_type": "execute_result"
    }
   ],
   "source": [
    "pd.crosstab(index=bg_mamma_posts.rating, columns=bg_mamma_posts.predicted_rating)"
   ]
  },
  {
   "cell_type": "code",
   "execution_count": null,
   "metadata": {
    "collapsed": true
   },
   "outputs": [],
   "source": [
    "from sklearn.metrics import accuracy_score, classification_report\n",
    "\n",
    "print('Accuracy: ', accuracy_score(bg_mamma_posts.rating, bg_mamma_posts.predicted_rating))\n",
    "print(classification_report(bg_mamma_posts.rating, bg_mamma_posts.predicted_rating))"
   ]
  },
  {
   "cell_type": "markdown",
   "metadata": {},
   "source": [
    "### 4.1.1 Подобрения"
   ]
  },
  {
   "cell_type": "markdown",
   "metadata": {},
   "source": [
    "Нека да приложим същия подход, но ще използваме само 3 класа:\n",
    "- положителни (тук влизат тези с рейтинг 4 или 5)\n",
    "- неутрални (рейтинг 3)\n",
    "- отрицателни (рейтинг, по-малък от 3)"
   ]
  },
  {
   "cell_type": "code",
   "execution_count": 34,
   "metadata": {
    "collapsed": true
   },
   "outputs": [],
   "source": [
    "amazon_reviews.round_ratings()\n",
    "bg_mamma_posts.round_ratings()"
   ]
  },
  {
   "cell_type": "markdown",
   "metadata": {},
   "source": [
    "Нека видим разпределението на тези рейтинги:"
   ]
  },
  {
   "cell_type": "code",
   "execution_count": 53,
   "metadata": {},
   "outputs": [
    {
     "data": {
      "text/plain": [
       "<matplotlib.axes._subplots.AxesSubplot at 0x12937b9e8>"
      ]
     },
     "execution_count": 53,
     "metadata": {},
     "output_type": "execute_result"
    },
    {
     "data": {
      "image/png": "[encoded data removed]",
      "text/plain": [
       "<matplotlib.figure.Figure at 0x129376f98>"
      ]
     },
     "metadata": {},
     "output_type": "display_data"
    }
   ],
   "source": [
    "amazon_reviews.plot_by_rating(title='Amazon reviews by rating')"
   ]
  },
  {
   "cell_type": "code",
   "execution_count": 54,
   "metadata": {},
   "outputs": [
    {
     "data": {
      "text/plain": [
       "<matplotlib.axes._subplots.AxesSubplot at 0x129526b00>"
      ]
     },
     "execution_count": 54,
     "metadata": {},
     "output_type": "execute_result"
    },
    {
     "data": {
      "image/png": "[encoded data removed]",
      "text/plain": [
       "<matplotlib.figure.Figure at 0x1294f8d68>"
      ]
     },
     "metadata": {},
     "output_type": "display_data"
    }
   ],
   "source": [
    "bg_mamma_posts.plot_by_rating(title='BG-Mamma posts by rating')"
   ]
  },
  {
   "cell_type": "code",
   "execution_count": 56,
   "metadata": {},
   "outputs": [
    {
     "data": {
      "text/plain": [
       "KNeighborsClassifier(algorithm='auto', leaf_size=30, metric='minkowski',\n",
       "           metric_params=None, n_jobs=1, n_neighbors=4, p=2,\n",
       "           weights='uniform')"
      ]
     },
     "execution_count": 56,
     "metadata": {},
     "output_type": "execute_result"
    }
   ],
   "source": [
    "knn = KNeighborsClassifier(n_neighbors=4)\n",
    "knn.fit(amazon_reviews.vector.tolist(), amazon_reviews.rating)\n",
    "bg_mamma_posts.predict_rating(knn)"
   ]
  },
  {
   "cell_type": "markdown",
   "metadata": {},
   "source": [
    "Да видим как се представя модела:"
   ]
  },
  {
   "cell_type": "code",
   "execution_count": 63,
   "metadata": {},
   "outputs": [
    {
     "data": {
      "text/html": [
       "<div>\n",
       "<style>\n",
       "    .dataframe thead tr:only-child th {\n",
       "        text-align: right;\n",
       "    }\n",
       "\n",
       "    .dataframe thead th {\n",
       "        text-align: left;\n",
       "    }\n",
       "\n",
       "    .dataframe tbody tr th {\n",
       "        vertical-align: top;\n",
       "    }\n",
       "</style>\n",
       "<table border=\"1\" class=\"dataframe\">\n",
       "  <thead>\n",
       "    <tr style=\"text-align: right;\">\n",
       "      <th>predicted_rating</th>\n",
       "      <th>1</th>\n",
       "      <th>2</th>\n",
       "      <th>3</th>\n",
       "    </tr>\n",
       "    <tr>\n",
       "      <th>rating</th>\n",
       "      <th></th>\n",
       "      <th></th>\n",
       "      <th></th>\n",
       "    </tr>\n",
       "  </thead>\n",
       "  <tbody>\n",
       "    <tr>\n",
       "      <th>1</th>\n",
       "      <td>31</td>\n",
       "      <td>8</td>\n",
       "      <td>59</td>\n",
       "    </tr>\n",
       "    <tr>\n",
       "      <th>2</th>\n",
       "      <td>18</td>\n",
       "      <td>6</td>\n",
       "      <td>45</td>\n",
       "    </tr>\n",
       "    <tr>\n",
       "      <th>3</th>\n",
       "      <td>59</td>\n",
       "      <td>16</td>\n",
       "      <td>181</td>\n",
       "    </tr>\n",
       "  </tbody>\n",
       "</table>\n",
       "</div>"
      ],
      "text/plain": [
       "predicted_rating   1   2    3\n",
       "rating                       \n",
       "1                 31   8   59\n",
       "2                 18   6   45\n",
       "3                 59  16  181"
      ]
     },
     "execution_count": 63,
     "metadata": {},
     "output_type": "execute_result"
    }
   ],
   "source": [
    "pd.crosstab(index=bg_mamma_posts.rating, columns=bg_mamma_posts.predicted_rating)"
   ]
  },
  {
   "cell_type": "code",
   "execution_count": 64,
   "metadata": {},
   "outputs": [
    {
     "name": "stdout",
     "output_type": "stream",
     "text": [
      "Accuracy:  0.51536643026\n"
     ]
    }
   ],
   "source": [
    "from sklearn.metrics import accuracy_score, classification_report\n",
    "\n",
    "print('Accuracy: ', accuracy_score(bg_mamma_posts.rating, bg_mamma_posts.predicted_rating))\n",
    "print(classification_report(bg_mamma_posts.rating, bg_mamma_posts.predicted_rating))"
   ]
  },
  {
   "cell_type": "markdown",
   "metadata": {},
   "source": [
    "Този резултат е доста лош, тъй като ако класифицираме всички ревюта с максимален рейтинг (3), ще получим accuracy от над 60%:"
   ]
  },
  {
   "cell_type": "code",
   "execution_count": 70,
   "metadata": {},
   "outputs": [
    {
     "name": "stdout",
     "output_type": "stream",
     "text": [
      "Честота на срещане на рейтинг 3:  0.605200945626\n"
     ]
    }
   ],
   "source": [
    "rating_counts = bg_mamma_posts.rating.value_counts()\n",
    "print('Честота на срещане на рейтинг 3: ', rating_counts[3]/sum(rating_counts))"
   ]
  },
  {
   "cell_type": "markdown",
   "metadata": {},
   "source": [
    "Можем да опитаме да приложим stemming при предварителната обработка на данните:"
   ]
  },
  {
   "cell_type": "code",
   "execution_count": 35,
   "metadata": {},
   "outputs": [
    {
     "data": {
      "text/html": [
       "<div>\n",
       "<style>\n",
       "    .dataframe thead tr:only-child th {\n",
       "        text-align: right;\n",
       "    }\n",
       "\n",
       "    .dataframe thead th {\n",
       "        text-align: left;\n",
       "    }\n",
       "\n",
       "    .dataframe tbody tr th {\n",
       "        vertical-align: top;\n",
       "    }\n",
       "</style>\n",
       "<table border=\"1\" class=\"dataframe\">\n",
       "  <thead>\n",
       "    <tr style=\"text-align: right;\">\n",
       "      <th></th>\n",
       "      <th>post</th>\n",
       "      <th>rating</th>\n",
       "      <th>tokens</th>\n",
       "      <th>vector</th>\n",
       "      <th>predicted_rating</th>\n",
       "    </tr>\n",
       "  </thead>\n",
       "  <tbody>\n",
       "    <tr>\n",
       "      <th>0</th>\n",
       "      <td>Най-любимия ми продукт на ЕЛ е серум ANR</td>\n",
       "      <td>3</td>\n",
       "      <td>[my, laughabl, product, of, el, is, serum, anr]</td>\n",
       "      <td>[-0.8884340425332388, 0.9310904194911321, -0.5...</td>\n",
       "      <td>3</td>\n",
       "    </tr>\n",
       "    <tr>\n",
       "      <th>1</th>\n",
       "      <td>От това, което съм ползвала от бялата козметик...</td>\n",
       "      <td>3</td>\n",
       "      <td>[from, what, i'v, been, use, white, cosmet, an...</td>\n",
       "      <td>[-0.5360326518615087, 0.33436721687515575, -1....</td>\n",
       "      <td>3</td>\n",
       "    </tr>\n",
       "    <tr>\n",
       "      <th>2</th>\n",
       "      <td>Не си представям и ден Без серума Advance Nigh...</td>\n",
       "      <td>3</td>\n",
       "      <td>[i, do, not, even, imagin, day, serum, advanc,...</td>\n",
       "      <td>[-0.3283296212553978, 0.7226738184690475, -0.9...</td>\n",
       "      <td>2</td>\n",
       "    </tr>\n",
       "    <tr>\n",
       "      <th>3</th>\n",
       "      <td>+ resiliance lift околоочния</td>\n",
       "      <td>3</td>\n",
       "      <td>[+, resili, lift, eyebrow]</td>\n",
       "      <td>[-1.0550452768802643, 0.7050577700138092, -1.2...</td>\n",
       "      <td>3</td>\n",
       "    </tr>\n",
       "    <tr>\n",
       "      <th>4</th>\n",
       "      <td>Моят най-любим продукт е Idealist А от декорат...</td>\n",
       "      <td>3</td>\n",
       "      <td>[my, lovabl, product, is, idealist, a, from, t...</td>\n",
       "      <td>[-0.7467351421713829, 0.8702313333749772, -0.6...</td>\n",
       "      <td>1</td>\n",
       "    </tr>\n",
       "  </tbody>\n",
       "</table>\n",
       "</div>"
      ],
      "text/plain": [
       "                                                post  rating  \\\n",
       "0           Най-любимия ми продукт на ЕЛ е серум ANR       3   \n",
       "1  От това, което съм ползвала от бялата козметик...       3   \n",
       "2  Не си представям и ден Без серума Advance Nigh...       3   \n",
       "3                       + resiliance lift околоочния       3   \n",
       "4  Моят най-любим продукт е Idealist А от декорат...       3   \n",
       "\n",
       "                                              tokens  \\\n",
       "0    [my, laughabl, product, of, el, is, serum, anr]   \n",
       "1  [from, what, i'v, been, use, white, cosmet, an...   \n",
       "2  [i, do, not, even, imagin, day, serum, advanc,...   \n",
       "3                         [+, resili, lift, eyebrow]   \n",
       "4  [my, lovabl, product, is, idealist, a, from, t...   \n",
       "\n",
       "                                              vector  predicted_rating  \n",
       "0  [-0.8884340425332388, 0.9310904194911321, -0.5...                 3  \n",
       "1  [-0.5360326518615087, 0.33436721687515575, -1....                 3  \n",
       "2  [-0.3283296212553978, 0.7226738184690475, -0.9...                 2  \n",
       "3  [-1.0550452768802643, 0.7050577700138092, -1.2...                 3  \n",
       "4  [-0.7467351421713829, 0.8702313333749772, -0.6...                 1  "
      ]
     },
     "execution_count": 35,
     "metadata": {},
     "output_type": "execute_result"
    }
   ],
   "source": [
    "amazon_reviews.tokenize(stem=True)\n",
    "vector_space = amazon_reviews.build_vector_space()\n",
    "amazon_reviews.vectorize(vector_space=vector_space)\n",
    "\n",
    "knn = KNeighborsClassifier(n_neighbors=4)\n",
    "knn.fit(amazon_reviews.vector.tolist(), amazon_reviews.rating)\n",
    "\n",
    "(bg_mamma_posts\n",
    " .tokenize(stem=True)\n",
    " .vectorize(vector_space=vector_space, tf_idf=amazon_reviews.tfidf())\n",
    " .predict_rating(knn)\n",
    " .head())"
   ]
  },
  {
   "cell_type": "code",
   "execution_count": 36,
   "metadata": {},
   "outputs": [
    {
     "name": "stdout",
     "output_type": "stream",
     "text": [
      "Accuracy:  0.524822695035\n",
      "             precision    recall  f1-score   support\n",
      "\n",
      "          1       0.27      0.29      0.28        98\n",
      "          2       0.13      0.04      0.07        69\n",
      "          3       0.65      0.75      0.69       256\n",
      "\n",
      "avg / total       0.47      0.52      0.49       423\n",
      "\n"
     ]
    }
   ],
   "source": [
    "from sklearn.metrics import accuracy_score, classification_report\n",
    "\n",
    "print('Accuracy: ', accuracy_score(bg_mamma_posts.rating, bg_mamma_posts.predicted_rating))\n",
    "print(classification_report(bg_mamma_posts.rating, bg_mamma_posts.predicted_rating))"
   ]
  },
  {
   "cell_type": "markdown",
   "metadata": {},
   "source": [
    "Не стана много по-добре."
   ]
  },
  {
   "cell_type": "markdown",
   "metadata": {},
   "source": [
    "## 4.2 Наивен Бейсов класификатор"
   ]
  },
  {
   "cell_type": "markdown",
   "metadata": {},
   "source": [
    "Вторият подход, който ще изпорбвам е Наивен Бейсов класификатор. За целта ще изведем речник със всички срещани думи както в ревютата в Амазон, така и в постовете от БГ-Мама."
   ]
  },
  {
   "cell_type": "code",
   "execution_count": 109,
   "metadata": {},
   "outputs": [
    {
     "name": "stdout",
     "output_type": "stream",
     "text": [
      "7692\n"
     ]
    }
   ],
   "source": [
    "from sklearn.feature_extraction.text import CountVectorizer\n",
    "from sklearn.naive_bayes import MultinomialNB\n",
    "from sklearn.metrics import confusion_matrix, classification_report, accuracy_score\n",
    "\n",
    "\n",
    "bg_mamma_posts = BGMammaReviews.get()\n",
    "bg_mamma_posts.remove_irrelevant_posts()\n",
    "bg_mamma_posts.translate()\n",
    "\n",
    "amazon_reviews = AmazonReviews.get()\n",
    "amazon_reviews = AmazonReviews(amazon_reviews.dropna())\n",
    "\n",
    "amazon_reviews.round_ratings()\n",
    "bg_mamma_posts.round_ratings()\n",
    "\n",
    "all_reviews = pd.concat([amazon_reviews, bg_mamma_posts])\n",
    "vocabulary = CountVectorizer().fit(all_reviews.post)\n",
    "print(len(vocabulary.vocabulary_))"
   ]
  },
  {
   "cell_type": "markdown",
   "metadata": {},
   "source": [
    "Получихме речник от 7692 думи. Превръщаме всеки пост в 7692-мерен вектор. За трениране използваме sparse матрица от данните от Амазон."
   ]
  },
  {
   "cell_type": "code",
   "execution_count": 110,
   "metadata": {},
   "outputs": [
    {
     "data": {
      "text/plain": [
       "MultinomialNB(alpha=1.0, class_prior=None, fit_prior=True)"
      ]
     },
     "execution_count": 110,
     "metadata": {},
     "output_type": "execute_result"
    }
   ],
   "source": [
    "amazon_sparse = vocabulary.transform(amazon_reviews.post)\n",
    "bg_mamma_sparse = vocabulary.transform(bg_mamma_posts.post)\n",
    "\n",
    "nb = MultinomialNB()\n",
    "nb.fit(amazon_sparse, amazon_reviews.rating)"
   ]
  },
  {
   "cell_type": "markdown",
   "metadata": {},
   "source": [
    "Вече имаме класификатор! Да видим какви резултати ще върне:"
   ]
  },
  {
   "cell_type": "code",
   "execution_count": 111,
   "metadata": {},
   "outputs": [
    {
     "name": "stdout",
     "output_type": "stream",
     "text": [
      "Accuracy on train set:  0.92701048951\n",
      "             precision    recall  f1-score   support\n",
      "\n",
      "          1       0.84      0.74      0.79       769\n",
      "          2       0.67      0.08      0.14       266\n",
      "          3       0.94      0.99      0.96      5829\n",
      "\n",
      "avg / total       0.92      0.93      0.91      6864\n",
      "\n",
      "Accuracy on test set:  0.486997635934\n",
      "             precision    recall  f1-score   support\n",
      "\n",
      "          1       0.28      0.48      0.36        98\n",
      "          2       0.00      0.00      0.00        69\n",
      "          3       0.67      0.62      0.64       256\n",
      "\n",
      "avg / total       0.47      0.49      0.47       423\n",
      "\n"
     ]
    }
   ],
   "source": [
    "amazon_predictions = nb.predict(amazon_sparse)\n",
    "print('Accuracy on train set: ', accuracy_score(amazon_reviews.rating, amazon_predictions))\n",
    "print(classification_report(amazon_reviews.rating, amazon_predictions))\n",
    "\n",
    "bg_mamma_predictions = nb.predict(bg_mamma_sparse)\n",
    "print('Accuracy on test set: ', accuracy_score(bg_mamma_posts.rating, bg_mamma_predictions))\n",
    "print(classification_report(bg_mamma_posts.rating, bg_mamma_predictions))"
   ]
  },
  {
   "cell_type": "markdown",
   "metadata": {},
   "source": [
    "## 4.3 Логистична регресия"
   ]
  },
  {
   "cell_type": "markdown",
   "metadata": {},
   "source": [
    "Ще опитаме и с логистична регресия. За нея ще използваме същите sparse матрици, които получихме при Наивния Бейсов класификатор. Ще тренирам три модела, всеки от които оценява вероятността за рейтинг 1,2 или 3. Крайната стойност за рейтинг ще е тази с най-голяма вероятност."
   ]
  },
  {
   "cell_type": "markdown",
   "metadata": {},
   "source": [
    "Първо ще разделим колоната рейтинг на 3 булеви колони - дали е 1, 2 или 3."
   ]
  },
  {
   "cell_type": "code",
   "execution_count": 112,
   "metadata": {
    "collapsed": true
   },
   "outputs": [],
   "source": [
    "amazon_reviews['is_1'] = amazon_reviews.rating == 1\n",
    "amazon_reviews['is_2'] = amazon_reviews.rating == 2\n",
    "amazon_reviews['is_3'] = amazon_reviews.rating == 3\n",
    "\n",
    "bg_mamma_posts['is_1'] = bg_mamma_posts.rating == 1\n",
    "bg_mamma_posts['is_2'] = bg_mamma_posts.rating == 2\n",
    "bg_mamma_posts['is_3'] = bg_mamma_posts.rating == 3"
   ]
  },
  {
   "cell_type": "code",
   "execution_count": 113,
   "metadata": {},
   "outputs": [
    {
     "data": {
      "text/html": [
       "<div>\n",
       "<style>\n",
       "    .dataframe thead tr:only-child th {\n",
       "        text-align: right;\n",
       "    }\n",
       "\n",
       "    .dataframe thead th {\n",
       "        text-align: left;\n",
       "    }\n",
       "\n",
       "    .dataframe tbody tr th {\n",
       "        vertical-align: top;\n",
       "    }\n",
       "</style>\n",
       "<table border=\"1\" class=\"dataframe\">\n",
       "  <thead>\n",
       "    <tr style=\"text-align: right;\">\n",
       "      <th></th>\n",
       "      <th>post</th>\n",
       "      <th>rating</th>\n",
       "      <th>is_1</th>\n",
       "      <th>is_2</th>\n",
       "      <th>is_3</th>\n",
       "    </tr>\n",
       "  </thead>\n",
       "  <tbody>\n",
       "    <tr>\n",
       "      <th>0</th>\n",
       "      <td>Not sure if this was legit product...container...</td>\n",
       "      <td>1</td>\n",
       "      <td>True</td>\n",
       "      <td>False</td>\n",
       "      <td>False</td>\n",
       "    </tr>\n",
       "    <tr>\n",
       "      <th>1</th>\n",
       "      <td>This is the best sample from Estee Lauder. It'...</td>\n",
       "      <td>3</td>\n",
       "      <td>False</td>\n",
       "      <td>False</td>\n",
       "      <td>True</td>\n",
       "    </tr>\n",
       "    <tr>\n",
       "      <th>2</th>\n",
       "      <td>Perfect size for air-plane travel, does the jo...</td>\n",
       "      <td>3</td>\n",
       "      <td>False</td>\n",
       "      <td>False</td>\n",
       "      <td>True</td>\n",
       "    </tr>\n",
       "    <tr>\n",
       "      <th>3</th>\n",
       "      <td>It's realy worked. My skine smooth and clean. ...</td>\n",
       "      <td>3</td>\n",
       "      <td>False</td>\n",
       "      <td>False</td>\n",
       "      <td>True</td>\n",
       "    </tr>\n",
       "    <tr>\n",
       "      <th>4</th>\n",
       "      <td>Feels so great on my face. I love the smell</td>\n",
       "      <td>3</td>\n",
       "      <td>False</td>\n",
       "      <td>False</td>\n",
       "      <td>True</td>\n",
       "    </tr>\n",
       "  </tbody>\n",
       "</table>\n",
       "</div>"
      ],
      "text/plain": [
       "                                                post  rating   is_1   is_2  \\\n",
       "0  Not sure if this was legit product...container...       1   True  False   \n",
       "1  This is the best sample from Estee Lauder. It'...       3  False  False   \n",
       "2  Perfect size for air-plane travel, does the jo...       3  False  False   \n",
       "3  It's realy worked. My skine smooth and clean. ...       3  False  False   \n",
       "4        Feels so great on my face. I love the smell       3  False  False   \n",
       "\n",
       "    is_3  \n",
       "0  False  \n",
       "1   True  \n",
       "2   True  \n",
       "3   True  \n",
       "4   True  "
      ]
     },
     "execution_count": 113,
     "metadata": {},
     "output_type": "execute_result"
    }
   ],
   "source": [
    "amazon_reviews.head()"
   ]
  },
  {
   "cell_type": "code",
   "execution_count": 114,
   "metadata": {},
   "outputs": [
    {
     "data": {
      "text/html": [
       "<div>\n",
       "<style>\n",
       "    .dataframe thead tr:only-child th {\n",
       "        text-align: right;\n",
       "    }\n",
       "\n",
       "    .dataframe thead th {\n",
       "        text-align: left;\n",
       "    }\n",
       "\n",
       "    .dataframe tbody tr th {\n",
       "        vertical-align: top;\n",
       "    }\n",
       "</style>\n",
       "<table border=\"1\" class=\"dataframe\">\n",
       "  <thead>\n",
       "    <tr style=\"text-align: right;\">\n",
       "      <th></th>\n",
       "      <th>post</th>\n",
       "      <th>rating</th>\n",
       "      <th>is_1</th>\n",
       "      <th>is_2</th>\n",
       "      <th>is_3</th>\n",
       "    </tr>\n",
       "  </thead>\n",
       "  <tbody>\n",
       "    <tr>\n",
       "      <th>0</th>\n",
       "      <td>My favorite product of EL is serum ANR</td>\n",
       "      <td>3</td>\n",
       "      <td>False</td>\n",
       "      <td>False</td>\n",
       "      <td>True</td>\n",
       "    </tr>\n",
       "    <tr>\n",
       "      <th>1</th>\n",
       "      <td>From what I've been using white cosmetics and ...</td>\n",
       "      <td>3</td>\n",
       "      <td>False</td>\n",
       "      <td>False</td>\n",
       "      <td>True</td>\n",
       "    </tr>\n",
       "    <tr>\n",
       "      <th>2</th>\n",
       "      <td>I do not even imagine Day Serum Advance Night ...</td>\n",
       "      <td>3</td>\n",
       "      <td>False</td>\n",
       "      <td>False</td>\n",
       "      <td>True</td>\n",
       "    </tr>\n",
       "    <tr>\n",
       "      <th>3</th>\n",
       "      <td>+ resiliance lift eyebrow</td>\n",
       "      <td>3</td>\n",
       "      <td>False</td>\n",
       "      <td>False</td>\n",
       "      <td>True</td>\n",
       "    </tr>\n",
       "    <tr>\n",
       "      <th>4</th>\n",
       "      <td>My favorite product is Idealist A from the dec...</td>\n",
       "      <td>3</td>\n",
       "      <td>False</td>\n",
       "      <td>False</td>\n",
       "      <td>True</td>\n",
       "    </tr>\n",
       "  </tbody>\n",
       "</table>\n",
       "</div>"
      ],
      "text/plain": [
       "                                                post  rating   is_1   is_2  \\\n",
       "0             My favorite product of EL is serum ANR       3  False  False   \n",
       "1  From what I've been using white cosmetics and ...       3  False  False   \n",
       "2  I do not even imagine Day Serum Advance Night ...       3  False  False   \n",
       "3                          + resiliance lift eyebrow       3  False  False   \n",
       "4  My favorite product is Idealist A from the dec...       3  False  False   \n",
       "\n",
       "   is_3  \n",
       "0  True  \n",
       "1  True  \n",
       "2  True  \n",
       "3  True  \n",
       "4  True  "
      ]
     },
     "execution_count": 114,
     "metadata": {},
     "output_type": "execute_result"
    }
   ],
   "source": [
    "bg_mamma_posts.head()"
   ]
  },
  {
   "cell_type": "markdown",
   "metadata": {},
   "source": [
    "Тренираме трите класификатора:"
   ]
  },
  {
   "cell_type": "code",
   "execution_count": 115,
   "metadata": {
    "collapsed": true
   },
   "outputs": [],
   "source": [
    "from sklearn.linear_model import LogisticRegression\n",
    "\n",
    "fitted_1 = LogisticRegression().fit(amazon_sparse, amazon_reviews['is_1'])\n",
    "fitted_2 = LogisticRegression().fit(amazon_sparse, amazon_reviews['is_2'])\n",
    "fitted_3 = LogisticRegression().fit(amazon_sparse, amazon_reviews['is_3'])"
   ]
  },
  {
   "cell_type": "markdown",
   "metadata": {},
   "source": [
    "Предвиждаме вероятността за всеки клас рейтинг:"
   ]
  },
  {
   "cell_type": "code",
   "execution_count": 116,
   "metadata": {
    "collapsed": true
   },
   "outputs": [],
   "source": [
    "bg_mamma_posts['prob_is_1'] = fitted_1.predict_proba(bg_mamma_sparse)[:,1]\n",
    "bg_mamma_posts['prob_is_2'] = fitted_2.predict_proba(bg_mamma_sparse)[:,1]\n",
    "bg_mamma_posts['prob_is_3'] = fitted_3.predict_proba(bg_mamma_sparse)[:,1]"
   ]
  },
  {
   "cell_type": "markdown",
   "metadata": {},
   "source": [
    "Избираме най-вероятния рейтинг:"
   ]
  },
  {
   "cell_type": "code",
   "execution_count": 117,
   "metadata": {},
   "outputs": [
    {
     "data": {
      "text/html": [
       "<div>\n",
       "<style>\n",
       "    .dataframe thead tr:only-child th {\n",
       "        text-align: right;\n",
       "    }\n",
       "\n",
       "    .dataframe thead th {\n",
       "        text-align: left;\n",
       "    }\n",
       "\n",
       "    .dataframe tbody tr th {\n",
       "        vertical-align: top;\n",
       "    }\n",
       "</style>\n",
       "<table border=\"1\" class=\"dataframe\">\n",
       "  <thead>\n",
       "    <tr style=\"text-align: right;\">\n",
       "      <th></th>\n",
       "      <th>post</th>\n",
       "      <th>rating</th>\n",
       "      <th>is_1</th>\n",
       "      <th>is_2</th>\n",
       "      <th>is_3</th>\n",
       "      <th>prob_is_1</th>\n",
       "      <th>prob_is_2</th>\n",
       "      <th>prob_is_3</th>\n",
       "      <th>prediction</th>\n",
       "    </tr>\n",
       "  </thead>\n",
       "  <tbody>\n",
       "    <tr>\n",
       "      <th>0</th>\n",
       "      <td>My favorite product of EL is serum ANR</td>\n",
       "      <td>3</td>\n",
       "      <td>False</td>\n",
       "      <td>False</td>\n",
       "      <td>True</td>\n",
       "      <td>0.017231</td>\n",
       "      <td>0.002269</td>\n",
       "      <td>0.983953</td>\n",
       "      <td>3</td>\n",
       "    </tr>\n",
       "    <tr>\n",
       "      <th>1</th>\n",
       "      <td>From what I've been using white cosmetics and ...</td>\n",
       "      <td>3</td>\n",
       "      <td>False</td>\n",
       "      <td>False</td>\n",
       "      <td>True</td>\n",
       "      <td>0.020410</td>\n",
       "      <td>0.001225</td>\n",
       "      <td>0.987237</td>\n",
       "      <td>3</td>\n",
       "    </tr>\n",
       "    <tr>\n",
       "      <th>2</th>\n",
       "      <td>I do not even imagine Day Serum Advance Night ...</td>\n",
       "      <td>3</td>\n",
       "      <td>False</td>\n",
       "      <td>False</td>\n",
       "      <td>True</td>\n",
       "      <td>0.198267</td>\n",
       "      <td>0.039166</td>\n",
       "      <td>0.570253</td>\n",
       "      <td>3</td>\n",
       "    </tr>\n",
       "    <tr>\n",
       "      <th>3</th>\n",
       "      <td>+ resiliance lift eyebrow</td>\n",
       "      <td>3</td>\n",
       "      <td>False</td>\n",
       "      <td>False</td>\n",
       "      <td>True</td>\n",
       "      <td>0.096814</td>\n",
       "      <td>0.054705</td>\n",
       "      <td>0.821754</td>\n",
       "      <td>3</td>\n",
       "    </tr>\n",
       "    <tr>\n",
       "      <th>4</th>\n",
       "      <td>My favorite product is Idealist A from the dec...</td>\n",
       "      <td>3</td>\n",
       "      <td>False</td>\n",
       "      <td>False</td>\n",
       "      <td>True</td>\n",
       "      <td>0.004931</td>\n",
       "      <td>0.005740</td>\n",
       "      <td>0.992901</td>\n",
       "      <td>3</td>\n",
       "    </tr>\n",
       "  </tbody>\n",
       "</table>\n",
       "</div>"
      ],
      "text/plain": [
       "                                                post  rating   is_1   is_2  \\\n",
       "0             My favorite product of EL is serum ANR       3  False  False   \n",
       "1  From what I've been using white cosmetics and ...       3  False  False   \n",
       "2  I do not even imagine Day Serum Advance Night ...       3  False  False   \n",
       "3                          + resiliance lift eyebrow       3  False  False   \n",
       "4  My favorite product is Idealist A from the dec...       3  False  False   \n",
       "\n",
       "   is_3  prob_is_1  prob_is_2  prob_is_3  prediction  \n",
       "0  True   0.017231   0.002269   0.983953           3  \n",
       "1  True   0.020410   0.001225   0.987237           3  \n",
       "2  True   0.198267   0.039166   0.570253           3  \n",
       "3  True   0.096814   0.054705   0.821754           3  \n",
       "4  True   0.004931   0.005740   0.992901           3  "
      ]
     },
     "execution_count": 117,
     "metadata": {},
     "output_type": "execute_result"
    }
   ],
   "source": [
    "def find_most_probable(post):\n",
    "    probabilities = [post['prob_is_1'], post['prob_is_2'], post['prob_is_3']]\n",
    "    return probabilities.index(max(probabilities)) + 1\n",
    "\n",
    "bg_mamma_posts['prediction'] = bg_mamma_posts.apply(lambda post: find_most_probable(post), axis=1)\n",
    "bg_mamma_posts.head()"
   ]
  },
  {
   "cell_type": "markdown",
   "metadata": {},
   "source": [
    "Да видим как се справя този модел"
   ]
  },
  {
   "cell_type": "code",
   "execution_count": 118,
   "metadata": {},
   "outputs": [
    {
     "name": "stdout",
     "output_type": "stream",
     "text": [
      "Accuracy:  0.567375886525\n",
      "             precision    recall  f1-score   support\n",
      "\n",
      "          1       0.37      0.44      0.40        98\n",
      "          2       0.26      0.23      0.25        69\n",
      "          3       0.74      0.71      0.72       256\n",
      "\n",
      "avg / total       0.57      0.57      0.57       423\n",
      "\n"
     ]
    }
   ],
   "source": [
    "print('Accuracy: ', accuracy_score(bg_mamma_posts.rating, bg_mamma_posts.prediction))\n",
    "print(classification_report(bg_mamma_posts.rating, bg_mamma_posts.prediction))"
   ]
  },
  {
   "cell_type": "markdown",
   "metadata": {},
   "source": [
    "По-добре!"
   ]
  },
  {
   "cell_type": "markdown",
   "metadata": {},
   "source": [
    "----"
   ]
  },
  {
   "cell_type": "markdown",
   "metadata": {},
   "source": [
    "От изпорбваните класификатори, логистичната регресия дава най-добри резултати. С нейна помощ можем да обобщим средната оценка за продуктите на *Estee Lauder*:"
   ]
  },
  {
   "cell_type": "code",
   "execution_count": 120,
   "metadata": {},
   "outputs": [
    {
     "data": {
      "text/plain": [
       "2.307328605200946"
      ]
     },
     "execution_count": 120,
     "metadata": {},
     "output_type": "execute_result"
    }
   ],
   "source": [
    "bg_mamma_posts.prediction.mean()"
   ]
  },
  {
   "cell_type": "markdown",
   "metadata": {},
   "source": [
    "Да видим истинската оценка:"
   ]
  },
  {
   "cell_type": "code",
   "execution_count": 122,
   "metadata": {},
   "outputs": [
    {
     "data": {
      "text/plain": [
       "2.3735224586288415"
      ]
     },
     "execution_count": 122,
     "metadata": {},
     "output_type": "execute_result"
    }
   ],
   "source": [
    "bg_mamma_posts.rating.mean()"
   ]
  },
  {
   "cell_type": "markdown",
   "metadata": {},
   "source": [
    "# 5. Заключение"
   ]
  },
  {
   "cell_type": "markdown",
   "metadata": {},
   "source": [
    "Най-високата точност, която успяхме да постигнем с тези данни е 57%. Как можем да подобрим модела?\n",
    "- можем да свалим повече данни, които не са обвързани само с един продукт, тъй като основен проблем е неравномерната им разпределеност\n",
    "- да опитаме и с други класификатори\n",
    "- да използваме NLP подходи за класификация на свободен текст"
   ]
  }
 ],
 "metadata": {
  "kernelspec": {
   "display_name": "Python 3",
   "language": "python",
   "name": "python3"
  },
  "language_info": {
   "codemirror_mode": {
    "name": "ipython",
    "version": 3
   },
   "file_extension": ".py",
   "mimetype": "text/x-python",
   "name": "python",
   "nbconvert_exporter": "python",
   "pygments_lexer": "ipython3",
   "version": "3.6.1"
  }
 },
 "nbformat": 4,
 "nbformat_minor": 2
}
